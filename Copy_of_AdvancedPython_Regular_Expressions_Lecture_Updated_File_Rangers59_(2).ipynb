{
 "cells": [
  {
   "cell_type": "markdown",
   "metadata": {
    "id": "C_lvL0AhIiup"
   },
   "source": [
    "# Regular Expressions"
   ]
  },
  {
   "cell_type": "markdown",
   "metadata": {
    "id": "xAmIcBmqIiuu"
   },
   "source": [
    "# Tasks today:\n",
    "1) <b>Importing</b> <br>\n",
    "2) <b>Using Regular Expressions</b> <br>\n",
    " &nbsp;&nbsp;&nbsp;&nbsp; a) re.compile() <br>\n",
    " &nbsp;&nbsp;&nbsp;&nbsp; b) re.match() <br>\n",
    " &nbsp;&nbsp;&nbsp;&nbsp; c) re.findall() <br>\n",
    " &nbsp;&nbsp;&nbsp;&nbsp; d) re.search() <br>\n",
    "3) <b>Sets</b> <br>\n",
    " &nbsp;&nbsp;&nbsp;&nbsp; a) Integer Ranges <br>\n",
    " &nbsp;&nbsp;&nbsp;&nbsp; b) Character Ranges <br>\n",
    "4) <b>Counting Occurences</b> <br>\n",
    " &nbsp;&nbsp;&nbsp;&nbsp; a) {x} <br>\n",
    " &nbsp;&nbsp;&nbsp;&nbsp; b) {, x} <br>\n",
    " &nbsp;&nbsp;&nbsp;&nbsp; c) {?} <br>\n",
    " &nbsp;&nbsp;&nbsp;&nbsp; d) {*} <br>\n",
    " &nbsp;&nbsp;&nbsp;&nbsp; e) {+} <br>\n",
    "5) <b>In-Class Exercise #1</b> <br>\n",
    "6) <b>Escaping Characters</b> <br>\n",
    "7) <b>Grouping</b> <br>\n",
    "8) <b>In-Class Exercise #2</b> <br>\n",
    "9) <b>Opening a File</b> <br>\n",
    " &nbsp;&nbsp;&nbsp;&nbsp; a) open() <br>\n",
    " &nbsp;&nbsp;&nbsp;&nbsp; b) with open() <br>\n",
    " &nbsp;&nbsp;&nbsp;&nbsp; c) re.match() <br>\n",
    " &nbsp;&nbsp;&nbsp;&nbsp; d) re.search() <br>\n",
    " &nbsp;&nbsp;&nbsp;&nbsp; e) Store the String in a Variable <br>\n",
    "10) <b>Regex Project</b> <br>"
   ]
  },
  {
   "cell_type": "markdown",
   "metadata": {
    "id": "xmtkyjNrIiux"
   },
   "source": [
    "### Importing <br>\n",
    "<p>Regular Expressions are universal throughout most programming languages... They are generally imported through the module 're'.</p>"
   ]
  },
  {
   "cell_type": "code",
   "execution_count": 11,
   "metadata": {
    "id": "7wPIPnCyIiuz"
   },
   "outputs": [],
   "source": [
    "# import re\n",
    "import re"
   ]
  },
  {
   "cell_type": "markdown",
   "metadata": {
    "id": "KhDPDDXeIiu1"
   },
   "source": [
    "### Using Regular Expressions <br>\n",
    "<p>Regular expressions give us the ability to search for patterns within text, strings, files, etc. They serve several uses, such as; security measures, searching, filtering, pattern recognition, and more...</p>"
   ]
  },
  {
   "cell_type": "markdown",
   "metadata": {
    "id": "xQNDruj-Iiu2"
   },
   "source": [
    "##### re.compile()"
   ]
  },
  {
   "cell_type": "code",
   "execution_count": null,
   "metadata": {
    "id": "KPCEmTowIiu3"
   },
   "outputs": [],
   "source": [
    "# using compile, pre determines the string to be used in regular expression methods\n",
    "pattern = re.compile('abcd')\n",
    "\n"
   ]
  },
  {
   "cell_type": "markdown",
   "metadata": {
    "id": "HVMu4KedIiu4"
   },
   "source": [
    "##### re.match()"
   ]
  },
  {
   "cell_type": "code",
   "execution_count": null,
   "metadata": {
    "colab": {
     "base_uri": "https://localhost:8080/"
    },
    "id": "ogs3sP6CIiu4",
    "outputId": "beef27ac-7bf0-4078-a9a8-02d73f011fca"
   },
   "outputs": [],
   "source": [
    "match = pattern.match('abcd123')\n",
    "print(match)\n",
    "# Accessing the span of the match\n",
    "print(match.span())\n"
   ]
  },
  {
   "cell_type": "markdown",
   "metadata": {
    "id": "vmBWN7lkIiu4"
   },
   "source": [
    "##### re.findall()"
   ]
  },
  {
   "cell_type": "code",
   "execution_count": null,
   "metadata": {
    "colab": {
     "base_uri": "https://localhost:8080/"
    },
    "id": "bNZEvWOOIiu6",
    "outputId": "024f6e12-6efc-48eb-cead-ea04115a1c66"
   },
   "outputs": [],
   "source": [
    "finders = pattern.findall('123 abcd abc123 abcd abcdabc acb')\n",
    "#help(re.findall)\n",
    "print(finders)"
   ]
  },
  {
   "cell_type": "markdown",
   "metadata": {
    "id": "9wPQoF_xIiu6"
   },
   "source": [
    "##### re.search()"
   ]
  },
  {
   "cell_type": "code",
   "execution_count": 84,
   "metadata": {
    "colab": {
     "base_uri": "https://localhost:8080/"
    },
    "id": "O-_K-zlRIiu7",
    "outputId": "33b9b3d8-3171-4fba-9b7e-35f55bae3420"
   },
   "outputs": [
    {
     "ename": "AttributeError",
     "evalue": "'str' object has no attribute 'search'",
     "output_type": "error",
     "traceback": [
      "\u001b[1;31m---------------------------------------------------------------------------\u001b[0m",
      "\u001b[1;31mAttributeError\u001b[0m                            Traceback (most recent call last)",
      "Cell \u001b[1;32mIn[84], line 2\u001b[0m\n\u001b[0;32m      1\u001b[0m random_string \u001b[38;5;241m=\u001b[39m \u001b[38;5;124m\"\u001b[39m\u001b[38;5;124m123 123 234 abcd abc\u001b[39m\u001b[38;5;124m\"\u001b[39m\n\u001b[1;32m----> 2\u001b[0m search \u001b[38;5;241m=\u001b[39m pattern\u001b[38;5;241m.\u001b[39msearch(random_string)\n\u001b[0;32m      3\u001b[0m \u001b[38;5;28mprint\u001b[39m(search)\n\u001b[0;32m      5\u001b[0m span \u001b[38;5;241m=\u001b[39m search\u001b[38;5;241m.\u001b[39mspan()\n",
      "\u001b[1;31mAttributeError\u001b[0m: 'str' object has no attribute 'search'"
     ]
    }
   ],
   "source": [
    "random_string = \"123 123 234 abcd abc\"\n",
    "search = pattern.search(random_string)\n",
    "print(search)\n",
    "\n",
    "span = search.span()\n",
    "print(span, type(span))\n",
    "#This is slicing random string to find abcd based on the the span[0]:[span[1]\n",
    "#goes from the 12th index to the 16th index\n",
    "print(random_string[span[0]: span[1]])\n",
    "print(random_string[12:16])"
   ]
  },
  {
   "cell_type": "markdown",
   "metadata": {
    "id": "WVc2m2CUIiu7"
   },
   "source": [
    "### Sets <br>\n",
    "<p>The following cells will allow you to use regular expressions to search for certain values within a range such as numbers 1 through 4.</p>"
   ]
  },
  {
   "cell_type": "markdown",
   "metadata": {
    "id": "OZENyc97Iiu7"
   },
   "source": [
    "##### [a-z] or [A-Z] - any lowercase/uppercase letters from a to z<br/>[^2] - anything that's not 2"
   ]
  },
  {
   "cell_type": "markdown",
   "metadata": {
    "id": "33dfYYa6Iiu8"
   },
   "source": [
    "##### Integer Ranges"
   ]
  },
  {
   "cell_type": "code",
   "execution_count": 83,
   "metadata": {
    "colab": {
     "base_uri": "https://localhost:8080/"
    },
    "id": "cHJGIKyOIiu9",
    "outputId": "d2b4782b-4d75-4341-a139-efced55619b9"
   },
   "outputs": [
    {
     "ename": "NameError",
     "evalue": "name 'random_numbers' is not defined",
     "output_type": "error",
     "traceback": [
      "\u001b[1;31m---------------------------------------------------------------------------\u001b[0m",
      "\u001b[1;31mNameError\u001b[0m                                 Traceback (most recent call last)",
      "Cell \u001b[1;32mIn[83], line 4\u001b[0m\n\u001b[0;32m      2\u001b[0m my_nums \u001b[38;5;241m=\u001b[39m \u001b[38;5;124m\"\u001b[39m\u001b[38;5;124m67383\u001b[39m\u001b[38;5;124m\"\u001b[39m\n\u001b[0;32m      3\u001b[0m pattern_int \u001b[38;5;241m=\u001b[39m re\u001b[38;5;241m.\u001b[39mcompile(\u001b[38;5;124m'\u001b[39m\u001b[38;5;124m[0-3][7-9][0-3]\u001b[39m\u001b[38;5;124m'\u001b[39m)\n\u001b[1;32m----> 4\u001b[0m \u001b[38;5;28mprint\u001b[39m(random_numbers)\n\u001b[0;32m      5\u001b[0m random_numbers \u001b[38;5;241m=\u001b[39m pattern_int\u001b[38;5;241m.\u001b[39msearch(\u001b[38;5;124m'\u001b[39m\u001b[38;5;124m67383\u001b[39m\u001b[38;5;124m'\u001b[39m)\n\u001b[0;32m      6\u001b[0m span \u001b[38;5;241m=\u001b[39m random_numbers\u001b[38;5;241m.\u001b[39mspan()\n",
      "\u001b[1;31mNameError\u001b[0m: name 'random_numbers' is not defined"
     ]
    }
   ],
   "source": [
    "pattern_int = re.compile('[0-7][7-9][0-3]')\n",
    "my_nums = \"67383\"\n",
    "pattern_int = re.compile('[0-3][7-9][0-3]')\n",
    "print(random_numbers)\n",
    "random_numbers = pattern_int.search('67383')\n",
    "span = random_numbers.span()\n",
    "print(span)\n",
    "print(my_nums[span[0]:span[1]])"
   ]
  },
  {
   "cell_type": "markdown",
   "metadata": {
    "id": "NEclouKPIiu9"
   },
   "source": [
    "##### Character Ranges"
   ]
  },
  {
   "cell_type": "code",
   "execution_count": null,
   "metadata": {
    "colab": {
     "base_uri": "https://localhost:8080/"
    },
    "id": "AwtJq8wdIiu9",
    "outputId": "e12267ed-e5ee-431c-ca51-dfe2eaf98746"
   },
   "outputs": [],
   "source": [
    "char_pattern = re.compile('[A-Z][a-z]')\n",
    "\n",
    "found = char_pattern.findall('Hello There Mr.Anderson')\n",
    "print(found)"
   ]
  },
  {
   "cell_type": "markdown",
   "metadata": {
    "id": "01dDlRUfIiu-"
   },
   "source": [
    "### Counting Occurences"
   ]
  },
  {
   "cell_type": "markdown",
   "metadata": {
    "id": "_FYxIyipIiu_"
   },
   "source": [
    "##### {x} - something that occurs {num_of_times}"
   ]
  },
  {
   "cell_type": "code",
   "execution_count": null,
   "metadata": {
    "colab": {
     "base_uri": "https://localhost:8080/"
    },
    "id": "HWOsT8FOIiu_",
    "outputId": "c49b3d40-8b6f-4e15-a125-4bbaaf634478"
   },
   "outputs": [],
   "source": [
    "char_pattern_count = re.compile('[A-z][a-z][0-3][2]')\n",
    "\n",
    "found_count = char_pattern_count.findall('Hello There Mr.An32erson')\n",
    "print(found_count)"
   ]
  },
  {
   "cell_type": "markdown",
   "metadata": {
    "id": "Obk8buKUIiu_"
   },
   "source": [
    "##### {x, x} - something that occurs between x and x times"
   ]
  },
  {
   "cell_type": "code",
   "execution_count": null,
   "metadata": {
    "colab": {
     "base_uri": "https://localhost:8080/"
    },
    "id": "pIgGXVoUIiu_",
    "outputId": "8d862f75-c2a7-4f8d-95e6-e8c23c15ca28"
   },
   "outputs": [],
   "source": [
    "random_pattern = re.compile('m{1,5}')\n",
    "\n",
    "random_statement = random_pattern.findall('This is an example of a regular expression trying to find one m , more than one or five mmmmm')\n",
    "print(random_statement)"
   ]
  },
  {
   "cell_type": "markdown",
   "metadata": {
    "id": "bR0zb8EXIivA"
   },
   "source": [
    "##### ? - something that occurs 0 or 1 time"
   ]
  },
  {
   "cell_type": "code",
   "execution_count": null,
   "metadata": {
    "colab": {
     "base_uri": "https://localhost:8080/"
    },
    "id": "E2mQJq_9IivB",
    "outputId": "36d095be-2144-495b-9fd8-b6b4456601d8"
   },
   "outputs": [],
   "source": [
    "pattern = re.compile('Mrss?')\n",
    "\n",
    "found_pat = pattern.findall('Hello M Ther Mr.Anderson, mid how is Mrs.Anderson, Ms.Anderson?')\n",
    "print(found_pat)"
   ]
  },
  {
   "cell_type": "markdown",
   "metadata": {
    "id": "yJicEObRIivB"
   },
   "source": [
    "##### * - something that occurs at least 0 times"
   ]
  },
  {
   "cell_type": "code",
   "execution_count": null,
   "metadata": {
    "colab": {
     "base_uri": "https://localhost:8080/"
    },
    "id": "RoyON74eIivB",
    "outputId": "bb942b56-e121-4410-a7f0-83ecc7a0f512"
   },
   "outputs": [],
   "source": [
    "pattern_m = re.compile('M*s')\n",
    "found_m = pattern_m.findall('MMMs name is Ms.SMith, This is Msssss')\n",
    "print(found_m)"
   ]
  },
  {
   "cell_type": "markdown",
   "metadata": {
    "id": "UlyirxlaIivC"
   },
   "source": [
    "##### + - something that occurs at least once"
   ]
  },
  {
   "cell_type": "code",
   "execution_count": null,
   "metadata": {
    "colab": {
     "base_uri": "https://localhost:8080/"
    },
    "id": "n0rCHuWiIivD",
    "outputId": "0b2a1f0a-7a89-44ba-ada9-97c2a7ab5a69"
   },
   "outputs": [],
   "source": [
    "pattern_again = re.compile('M+s')\n",
    "found_patt =  pattern_again.findall('My name is Ms.Smith. This is MMMMMsssssss')\n",
    "print(found_patt)"
   ]
  },
  {
   "cell_type": "markdown",
   "metadata": {
    "id": "898UGgMzIivE"
   },
   "source": [
    "##### In-class exercise 1:\n",
    "\n",
    "Use a regular expression to find every number in the given string"
   ]
  },
  {
   "cell_type": "code",
   "execution_count": null,
   "metadata": {
    "colab": {
     "base_uri": "https://localhost:8080/"
    },
    "id": "OgyQlLY9IivE",
    "outputId": "116a7749-78e3-4801-be24-886b0f63f411"
   },
   "outputs": [],
   "source": [
    "pattern_nums = re.compile('[0-9]*[0-9]')\n",
    "found_pat_nums =  pattern_nums.findall('This string has 10909090 numbers, but its only 1 string. I you solve this 2day')\n",
    "print(found_pat_nums)\n",
    "\n"
   ]
  },
  {
   "cell_type": "markdown",
   "metadata": {
    "id": "ij1Af0HhIivE"
   },
   "source": [
    "### Escaping Characters"
   ]
  },
  {
   "cell_type": "markdown",
   "metadata": {
    "id": "tNT0aXrfIivF"
   },
   "source": [
    "##### \\w - look for any Unicode character<br/>\\W - look for anything that isnt a Unicode character\n",
    "\n",
    "[History on Unicode](http://unicode.org/standard/WhatIsUnicode.html)\n",
    "\n",
    "[More on Unicode Characters](https://en.wikipedia.org/wiki/List_of_Unicode_characters)"
   ]
  },
  {
   "cell_type": "code",
   "execution_count": null,
   "metadata": {
    "colab": {
     "base_uri": "https://localhost:8080/"
    },
    "id": "JPVTHgsWIivF",
    "outputId": "23ccc006-40c7-4ea3-c778-f96ca4635147"
   },
   "outputs": [],
   "source": [
    "#any word charater\n",
    "pattern_1 = re.compile('[\\w]+')\n",
    "#any non-word charater\n",
    "pattern_2 = re.compile('[\\W]+')\n",
    "\n",
    "found_1 = pattern_1.findall(\"This is a setentence, with an exclemation mark at the end!\")\n",
    "found_2 = pattern_2.findall(\"This is a setentence, with an exclemation mark at the end!\")\n",
    "\n",
    "print(found_1)\n",
    "print(found_2)"
   ]
  },
  {
   "cell_type": "markdown",
   "metadata": {
    "id": "prVjZjnpIivG"
   },
   "source": [
    "##### \\d - look for any digit 0-9<br/>\\D - look for anything that isnt a digit"
   ]
  },
  {
   "cell_type": "code",
   "execution_count": null,
   "metadata": {
    "colab": {
     "base_uri": "https://localhost:8080/"
    },
    "id": "B_8pAK07IivG",
    "outputId": "f5caa835-0cce-4da0-ea52-a297b8df341f"
   },
   "outputs": [],
   "source": [
    "pattern_nums1 = re.compile('\\d{1,2}[a-z]{2}')\n",
    "\n",
    "found_date = pattern_nums1.findall('Today is the 7th, in 20 days it will be the 27th, 3rd, 1st, 30th')\n",
    "print(found_date)\n"
   ]
  },
  {
   "cell_type": "markdown",
   "metadata": {
    "id": "c5W8y3sEIivG"
   },
   "source": [
    "##### \\s - look for any white space<br/>\\S - look for anything that isnt whitespace"
   ]
  },
  {
   "cell_type": "code",
   "execution_count": null,
   "metadata": {
    "colab": {
     "base_uri": "https://localhost:8080/"
    },
    "id": "q12ywK55IivH",
    "outputId": "e6a26c84-7420-49bf-ce92-3d9dfab2f383"
   },
   "outputs": [],
   "source": [
    "pattern_no_space = re.compile('\\s[a-z]*')\n",
    "pattern_space = re.compile('\\s+')\n",
    "found_space = pattern_space.findall(\"are you afraid of the dark?\")\n",
    "print(found_space)\n",
    "\n",
    "found_dark= pattern_no_space.findall(\"are you afraid of the dark\")\n",
    "print(found_dark)"
   ]
  },
  {
   "cell_type": "markdown",
   "metadata": {
    "id": "SR3Z3H4JIivI"
   },
   "source": [
    "##### \\b - look for boundaries or edges of a word<br/>\\B - look for anything that isnt a boundary"
   ]
  },
  {
   "cell_type": "code",
   "execution_count": null,
   "metadata": {
    "colab": {
     "base_uri": "https://localhost:8080/"
    },
    "id": "sp083MeMIivI",
    "outputId": "2ed33e95-a328-4b33-da28-4558b1f7a44c"
   },
   "outputs": [],
   "source": [
    "pattern_bound = re.compile(r'\\bTheCodingTemple\\b')\n",
    "pattern_bound_nope = re.compile(r'\\BTheCodingTemple\\B')\n",
    "no_found_bound = pattern_bound_nope.findall(\"TheCodingTemple\")\n",
    "print(no_found_bound)\n",
    "found_bound = pattern_bound.findall(\"TheCodingTemple\")\n",
    "print(found_bound)"
   ]
  },
  {
   "cell_type": "code",
   "execution_count": null,
   "metadata": {
    "id": "3ZoqFJr6wfHt"
   },
   "outputs": [],
   "source": []
  },
  {
   "cell_type": "markdown",
   "metadata": {
    "id": "TvdPxOTGIivJ"
   },
   "source": [
    "### Grouping"
   ]
  },
  {
   "cell_type": "code",
   "execution_count": 89,
   "metadata": {
    "colab": {
     "base_uri": "https://localhost:8080/"
    },
    "id": "Mt2G6knsIivK",
    "outputId": "2519256d-d279-4603-f719-8ed348dc4302"
   },
   "outputs": [
    {
     "name": "stdout",
     "output_type": "stream",
     "text": [
      "[('Max', 'Smith'), ('Sam', 'Darnold'), ('Lebron', 'James'), ('Micheal', 'Jordan'), ('Kevin', 'Durant'), ('Patrick', 'McCormick')]\n",
      "('Max', 'Smith')\n",
      "not a name\n",
      "('Sam', 'Darnold')\n",
      "('Lebron', 'James')\n",
      "('Micheal', 'Jordan')\n",
      "('Kevin', 'Durant')\n",
      "('Patrick', 'McCormick')\n"
     ]
    }
   ],
   "source": [
    "#This code is incomplete due to class video having low quality\n",
    "my_string_again = 'Max Smith, aaron aodgeers, Sam Darnold, Lebron James, Micheal Jordan, Kevin Durant, Patrick McCormick'\n",
    "pattern_name = re.compile('([A-Z][a-zA-Za-z]+) ([A-Z][A-Za-z]+)')\n",
    "found_names = pattern_name.findall(my_string_again)\n",
    "print(found_names)\n",
    "\n",
    "for name in my_string_again.split(','):\n",
    "  match = pattern_name.search(name)\n",
    "  if match:\n",
    "    print(match.groups(2))\n",
    "  else:\n",
    "    print(\"not a name\")"
   ]
  },
  {
   "cell_type": "markdown",
   "metadata": {
    "id": "Xo3R_niXIivK"
   },
   "source": [
    "##### In-class Exercise 2:\n",
    "\n",
    "Write a function using regular expressions to find the domain name in the given email addresses (and return None for the invalid email addresses)<br><b>HINT: Use '|' for either or</b>"
   ]
  },
  {
   "cell_type": "code",
   "execution_count": 69,
   "metadata": {
    "id": "7_3bCJE3IivL"
   },
   "outputs": [
    {
     "name": "stdout",
     "output_type": "stream",
     "text": [
      "None\n",
      "['pocohontas1776@gmail.com']\n",
      "None\n",
      "['yourfavoriteband@g6.org']\n",
      "None\n"
     ]
    }
   ],
   "source": [
    "#my_emails = [\"jordanw@codingtemple.orgcom\", \"pocohontas1776@gmail.com\", \"helloworld@aol..com\",#\n",
    "#             \"yourfavoriteband@g6.org\", \"@codingtemple.com\"]\n",
    "\n",
    "# You can also use the $ at the end of your compile expression -- this stops the search\n",
    "          \n",
    "#email_found = re.compile('[A-Za-z0-9-]+@[A-Za-z0-9-]+.com|org$')\n",
    "#found_email = email_found.findall(email_found)\n",
    "#print(found_email)\n",
    "\n",
    "my_emails = [\"jordanw@codingtemple.orgcom\", \"pocohontas1776@gmail.com\", \"helloworld@aol..com\",\n",
    "             \"yourfavoriteband@g6.org\", \"@codingtemple.com\"]\n",
    "\n",
    "# You can also use the $ at the end of your compile expression -- this stops the search\n",
    "          \n",
    "#email_found = re.compile('[A-Za-z0-9-]+@[A-Za-z0-9-]+.com|org$')\n",
    "#found_email = email_found.findall(email_found)\n",
    "#print(found_email)\n",
    "my_emails = [\"jordanw@codingtemple.orgcom\", \"pocohontas1776@gmail.com\", \"helloworld@aol..com\",\n",
    "             \"yourfavoriteband@g6.org\", \"@codingtemple.com\"]\n",
    "for name in my_emails:\n",
    "    match = re.compile('[A-Za-z0-9-]+@[A-Za-z0-9-]+.com|[A-Za-z0-9-]+@[A-Za-z0-9-]+.org$')\n",
    "    found = match.findall(name)\n",
    "    if found:\n",
    "        print(found)\n",
    "    else:\n",
    "        print(\"None\")\n",
    "#This works in VS CODE\n",
    "\n",
    "\n",
    "#.com OR .org => com|org\n",
    "\n",
    "#Expected output:\n",
    "#None\n",
    "#pocohontas1776@gmail.com\n",
    "#None\n",
    "#yourfavoriteband@g6.org\n",
    "#None\n",
    "\n",
    "\n"
   ]
  },
  {
   "cell_type": "markdown",
   "metadata": {
    "id": "Ir26RuhSIivL"
   },
   "source": [
    "### Opening a File <br>\n",
    "<p>Python gives us a couple ways to import files, below are the two used most often.</p>"
   ]
  },
  {
   "cell_type": "markdown",
   "metadata": {
    "id": "dWU-VZvTIivM"
   },
   "source": [
    "##### open()"
   ]
  },
  {
   "cell_type": "code",
   "execution_count": 3,
   "metadata": {
    "colab": {
     "base_uri": "https://localhost:8080/",
     "height": 210
    },
    "id": "QIGhOMVfIivN",
    "outputId": "a1d346f3-4177-4801-843b-cc380eb507e9"
   },
   "outputs": [
    {
     "name": "stdout",
     "output_type": "stream",
     "text": [
      "Hawkins, Derek\tderek@codingtemple.com\t(555) 555-5555\tTeacher, Coding Temple\t@derekhawkins\n",
      "Zhai, Mo\tmozhai@codingtemple.com\t(555) 555-5554\tTeacher, Coding Temple\n",
      "Johnson, Joe\tjoejohnson@codingtemple.com\t\tJohson, Joe\n",
      "Osterberg, Sven-Erik\tgovernor@norrbotten.co.se\t\tGovernor, Norrbotten\t@sverik\n",
      ", Tim\ttim@killerrabbit.com\t\tEnchanter, Killer Rabbit Cave\n",
      "Butz, Ryan\tryanb@codingtemple.com\t(555) 555-5543\tCEO, Coding Temple\t@ryanbutz\n",
      "Doctor, The\tdoctor+companion@tardis.co.uk\t\tTime Lord, Gallifrey\n",
      "Exampleson, Example\tme@example.com\t555-555-5552\tExample, Example Co.\t@example\n",
      "Pael, Ripal\tripalp@codingtemple.com\t(555) 555-5553\tTeacher, Coding Temple\t@ripalp\n",
      "Vader, Darth\tdarth-vader@empire.gov\t(555) 555-4444\tSith Lord, Galactic Empire\t@darthvader\n",
      "Fernandez de la Vega Sanz, Maria Teresa\tmtfvs@spain.gov\t\tFirst Deputy Prime Minister, Spanish Gov\n",
      "\n"
     ]
    }
   ],
   "source": [
    "f = open('names.txt')\n",
    "data = f.read()\n",
    "print(data)\n"
   ]
  },
  {
   "cell_type": "markdown",
   "metadata": {
    "id": "H43_pOmFIivN"
   },
   "source": [
    "##### with open()"
   ]
  },
  {
   "cell_type": "code",
   "execution_count": 4,
   "metadata": {
    "colab": {
     "base_uri": "https://localhost:8080/",
     "height": 210
    },
    "id": "VX2efs0UIivO",
    "outputId": "33f326c8-445b-4454-b63d-7b3b90479e0b"
   },
   "outputs": [
    {
     "name": "stdout",
     "output_type": "stream",
     "text": [
      "Hawkins, Derek\tderek@codingtemple.com\t(555) 555-5555\tTeacher, Coding Temple\t@derekhawkins\n",
      "Zhai, Mo\tmozhai@codingtemple.com\t(555) 555-5554\tTeacher, Coding Temple\n",
      "Johnson, Joe\tjoejohnson@codingtemple.com\t\tJohson, Joe\n",
      "Osterberg, Sven-Erik\tgovernor@norrbotten.co.se\t\tGovernor, Norrbotten\t@sverik\n",
      ", Tim\ttim@killerrabbit.com\t\tEnchanter, Killer Rabbit Cave\n",
      "Butz, Ryan\tryanb@codingtemple.com\t(555) 555-5543\tCEO, Coding Temple\t@ryanbutz\n",
      "Doctor, The\tdoctor+companion@tardis.co.uk\t\tTime Lord, Gallifrey\n",
      "Exampleson, Example\tme@example.com\t555-555-5552\tExample, Example Co.\t@example\n",
      "Pael, Ripal\tripalp@codingtemple.com\t(555) 555-5553\tTeacher, Coding Temple\t@ripalp\n",
      "Vader, Darth\tdarth-vader@empire.gov\t(555) 555-4444\tSith Lord, Galactic Empire\t@darthvader\n",
      "Fernandez de la Vega Sanz, Maria Teresa\tmtfvs@spain.gov\t\tFirst Deputy Prime Minister, Spanish Gov\n",
      "\n"
     ]
    }
   ],
   "source": [
    "with open('names.txt') as f:\n",
    "  data = f.read()\n",
    "  print(data)"
   ]
  },
  {
   "cell_type": "markdown",
   "metadata": {
    "id": "7whdetg_IivP"
   },
   "source": [
    "##### re.match()"
   ]
  },
  {
   "cell_type": "code",
   "execution_count": null,
   "metadata": {
    "id": "GPCXFLqnIivP"
   },
   "outputs": [],
   "source": [
    "print(re.match(r'Hawkins, Derek',data))"
   ]
  },
  {
   "cell_type": "markdown",
   "metadata": {
    "id": "WKO31HXrIivP"
   },
   "source": [
    "##### re.search()"
   ]
  },
  {
   "cell_type": "code",
   "execution_count": null,
   "metadata": {
    "id": "XkptzsdkIivQ"
   },
   "outputs": [],
   "source": [
    "print(re.search(r'ripalp@codingtemple.com', data))"
   ]
  },
  {
   "cell_type": "markdown",
   "metadata": {
    "id": "qCP4xwyHIivQ"
   },
   "source": [
    "##### Store the String to a Variable"
   ]
  },
  {
   "cell_type": "code",
   "execution_count": null,
   "metadata": {
    "id": "KRmog5V_IivR"
   },
   "outputs": [],
   "source": [
    "answer = input(\"What would you like to search for... \")\n",
    "found = re.findall(answer,data)\n",
    "\n",
    "if found: \n",
    "    print(f'I found your data: {found}')\n",
    "else:\n",
    "    print(\"I found nothing\")"
   ]
  },
  {
   "cell_type": "markdown",
   "metadata": {
    "id": "AM73IbqfIivR"
   },
   "source": [
    "### In-Class Exercise #3 <br>\n",
    "<p>Print each persons name and twitter handle, using groups, should look like:</p>\n",
    "<p>==============<br>\n",
    "   Full Name / Twitter<br>\n",
    "   ==============</p>\n",
    "Derek Hawkins / @derekhawkins\n",
    "\n",
    " Erik Sven-Osterberg / @sverik\n",
    "\n",
    " Ryan Butz / @ryanbutz\n",
    "\n",
    " Example Exampleson / @example\n",
    "\n",
    " Ripal Pael / @ripalp\n",
    "\n",
    " Darth Vader / @darthvader"
   ]
  },
  {
   "cell_type": "code",
   "execution_count": 116,
   "metadata": {
    "id": "YvDWRwt9IivR",
    "scrolled": true
   },
   "outputs": [
    {
     "name": "stdout",
     "output_type": "stream",
     "text": [
      "Derek Hawkins/@derekhawkins\n",
      "Sven-Erik Osterberg/@sverik\n",
      "Ryan Butz/@ryanbutz\n",
      "Example Exampleson/@example\n",
      "Ripal Pael/@ripalp\n",
      "Darth Vader/@darthvader\n"
     ]
    }
   ],
   "source": [
    "#with open('names.txt') as f:\n",
    "#    data = f.read()\n",
    "#    print(data)\n",
    "\n",
    "#Define the regex pattern\n",
    "#pattern = r'^[A-Za-z- ]+,[ ][A-za-z- ]+|[^A-Za-z][@][a-zA-z]+'\n",
    "#matches = re.compile('^[A-Za-z- ]+,[ ][A-za-z- ]+|[^A-Za-z][@][a-zA-z]')\n",
    "#found = re.findall(matches)\n",
    "#for match in found:\n",
    "#    print(match, end = \" \")\n",
    "\n",
    "#for line in data:\n",
    "#    matches = re.compile('^([A-Za-z- ]+),[ ]([A-za-z- ]+)|[^A-Za-z]([@][a-zA-z]+)$')\n",
    "#    found = matches.findall(line,data)\n",
    "#    print(found)\n",
    "    \n",
    "\n",
    "    \n",
    "with open('names.txt') as f:\n",
    "    data = f.readlines()\n",
    "    pattern = re.compile(\"([A-Z][a-zA-Z ]+), ([A-Z][a-zA-Z- ]+)\\s([a-zA-Z-]+@[a-zA-Z-]+.[a-zA-Z.]+)\\s\\s?\\D?\\d*\\D?\\s?\\d*\\D?\\d*\\s([A-Z][a-zA-Z .]+),\\s([A-Z][a-zA-Z- .]+)\\s(@[A-Za-z]+)\")\n",
    "\n",
    "for line in data:\n",
    "    found = pattern.search(line)\n",
    "    if found:\n",
    "        if found.group(6):\n",
    "            print(found.group(2) + \" \" + found.group(1) + \"/\" + found.group(6))\n",
    "    "
   ]
  },
  {
   "cell_type": "markdown",
   "metadata": {
    "id": "rlibDRZzIivT"
   },
   "source": [
    "### Regex project\n",
    "\n",
    "Use python to read the file regex_test.txt and print the last name on each line using regular expressions and groups (return None for names with no first and last name, or names that aren't properly capitalized)\n",
    "##### Hint: use with open() and readlines()"
   ]
  },
  {
   "cell_type": "code",
   "execution_count": 113,
   "metadata": {
    "id": "9OA3IWkdIivV"
   },
   "outputs": [
    {
     "name": "stdout",
     "output_type": "stream",
     "text": [
      "Abraham  Lincoln\n",
      "Andrew P Garfield\n",
      "Connor  Milliken\n",
      "Jordan Alexander Williams\n",
      "None\n",
      "None\n"
     ]
    }
   ],
   "source": [
    "\"\"\"\n",
    "Expected Output\n",
    "Abraham Lincoln\n",
    "Andrew P Garfield\n",
    "Connor Milliken\n",
    "Jordan Alexander Williams\n",
    "None\n",
    "None\n",
    "\"\"\"\n",
    "\n",
    "#with open('regex_test.txt') as f:\n",
    "#  data = f.readlines()\n",
    "#  match=re.compile('([A-Z][a-z]+) (A-Z)?[a-z]* ?([A-Z][a-z]+)')\n",
    "\n",
    "       \n",
    "        \n",
    "with open('regex_test.txt') as f:\n",
    "    data = f.readlines()\n",
    "    pattern = re.compile(r'([A-Z][a-z]+) ([A-Z]?[a-z]*) ?([A-Z][a-z]+)')\n",
    "\n",
    "for line in data:\n",
    "    found = pattern.search(line)\n",
    "    if found:\n",
    "        if found.group(2):\n",
    "            print(found.group(1) + \" \" + found.group(2) + \" \" + found.group(3))\n",
    "        else:\n",
    "            print(found.group(1) +\"  \"+ found.group(3))\n",
    "    else:\n",
    "        print(\"None\")"
   ]
  },
  {
   "cell_type": "code",
   "execution_count": null,
   "metadata": {
    "id": "hZm0Ll2MIivW"
   },
   "outputs": [],
   "source": []
  }
 ],
 "metadata": {
  "colab": {
   "provenance": []
  },
  "kernelspec": {
   "display_name": "Python 3 (ipykernel)",
   "language": "python",
   "name": "python3"
  },
  "language_info": {
   "codemirror_mode": {
    "name": "ipython",
    "version": 3
   },
   "file_extension": ".py",
   "mimetype": "text/x-python",
   "name": "python",
   "nbconvert_exporter": "python",
   "pygments_lexer": "ipython3",
   "version": "3.11.3"
  }
 },
 "nbformat": 4,
 "nbformat_minor": 1
}
