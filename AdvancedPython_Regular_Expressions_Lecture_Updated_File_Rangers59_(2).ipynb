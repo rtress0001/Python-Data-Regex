{
  "cells": [
    {
      "cell_type": "markdown",
      "metadata": {
        "id": "C_lvL0AhIiup"
      },
      "source": [
        "# Regular Expressions"
      ]
    },
    {
      "cell_type": "markdown",
      "metadata": {
        "id": "xAmIcBmqIiuu"
      },
      "source": [
        "# Tasks today:\n",
        "1) <b>Importing</b> <br>\n",
        "2) <b>Using Regular Expressions</b> <br>\n",
        " &nbsp;&nbsp;&nbsp;&nbsp; a) re.compile() <br>\n",
        " &nbsp;&nbsp;&nbsp;&nbsp; b) re.match() <br>\n",
        " &nbsp;&nbsp;&nbsp;&nbsp; c) re.findall() <br>\n",
        " &nbsp;&nbsp;&nbsp;&nbsp; d) re.search() <br>\n",
        "3) <b>Sets</b> <br>\n",
        " &nbsp;&nbsp;&nbsp;&nbsp; a) Integer Ranges <br>\n",
        " &nbsp;&nbsp;&nbsp;&nbsp; b) Character Ranges <br>\n",
        "4) <b>Counting Occurences</b> <br>\n",
        " &nbsp;&nbsp;&nbsp;&nbsp; a) {x} <br>\n",
        " &nbsp;&nbsp;&nbsp;&nbsp; b) {, x} <br>\n",
        " &nbsp;&nbsp;&nbsp;&nbsp; c) {?} <br>\n",
        " &nbsp;&nbsp;&nbsp;&nbsp; d) {*} <br>\n",
        " &nbsp;&nbsp;&nbsp;&nbsp; e) {+} <br>\n",
        "5) <b>In-Class Exercise #1</b> <br>\n",
        "6) <b>Escaping Characters</b> <br>\n",
        "7) <b>Grouping</b> <br>\n",
        "8) <b>In-Class Exercise #2</b> <br>\n",
        "9) <b>Opening a File</b> <br>\n",
        " &nbsp;&nbsp;&nbsp;&nbsp; a) open() <br>\n",
        " &nbsp;&nbsp;&nbsp;&nbsp; b) with open() <br>\n",
        " &nbsp;&nbsp;&nbsp;&nbsp; c) re.match() <br>\n",
        " &nbsp;&nbsp;&nbsp;&nbsp; d) re.search() <br>\n",
        " &nbsp;&nbsp;&nbsp;&nbsp; e) Store the String in a Variable <br>\n",
        "10) <b>Regex Project</b> <br>"
      ]
    },
    {
      "cell_type": "markdown",
      "metadata": {
        "id": "xmtkyjNrIiux"
      },
      "source": [
        "### Importing <br>\n",
        "<p>Regular Expressions are universal throughout most programming languages... They are generally imported through the module 're'.</p>"
      ]
    },
    {
      "cell_type": "code",
      "execution_count": 1,
      "metadata": {
        "id": "7wPIPnCyIiuz"
      },
      "outputs": [],
      "source": [
        "# import re\n",
        "import re"
      ]
    },
    {
      "cell_type": "markdown",
      "metadata": {
        "id": "KhDPDDXeIiu1"
      },
      "source": [
        "### Using Regular Expressions <br>\n",
        "<p>Regular expressions give us the ability to search for patterns within text, strings, files, etc. They serve several uses, such as; security measures, searching, filtering, pattern recognition, and more...</p>"
      ]
    },
    {
      "cell_type": "markdown",
      "metadata": {
        "id": "xQNDruj-Iiu2"
      },
      "source": [
        "##### re.compile()"
      ]
    },
    {
      "cell_type": "code",
      "execution_count": 2,
      "metadata": {
        "id": "KPCEmTowIiu3"
      },
      "outputs": [],
      "source": [
        "# using compile, pre determines the string to be used in regular expression methods\n",
        "pattern = re.compile('abcd')\n",
        "\n"
      ]
    },
    {
      "cell_type": "markdown",
      "metadata": {
        "id": "HVMu4KedIiu4"
      },
      "source": [
        "##### re.match()"
      ]
    },
    {
      "cell_type": "code",
      "execution_count": 7,
      "metadata": {
        "colab": {
          "base_uri": "https://localhost:8080/"
        },
        "id": "ogs3sP6CIiu4",
        "outputId": "beef27ac-7bf0-4078-a9a8-02d73f011fca"
      },
      "outputs": [
        {
          "output_type": "stream",
          "name": "stdout",
          "text": [
            "<re.Match object; span=(0, 4), match='abcd'>\n",
            "(0, 4)\n"
          ]
        }
      ],
      "source": [
        "match = pattern.match('abcd123')\n",
        "print(match)\n",
        "# Accessing the span of the match\n",
        "print(match.span())\n"
      ]
    },
    {
      "cell_type": "markdown",
      "metadata": {
        "id": "vmBWN7lkIiu4"
      },
      "source": [
        "##### re.findall()"
      ]
    },
    {
      "cell_type": "code",
      "execution_count": 12,
      "metadata": {
        "colab": {
          "base_uri": "https://localhost:8080/"
        },
        "id": "bNZEvWOOIiu6",
        "outputId": "024f6e12-6efc-48eb-cead-ea04115a1c66"
      },
      "outputs": [
        {
          "output_type": "stream",
          "name": "stdout",
          "text": [
            "['abcd', 'abcd', 'abcd']\n"
          ]
        }
      ],
      "source": [
        "finders = pattern.findall('123 abcd abc123 abcd abcdabc acb')\n",
        "#help(re.findall)\n",
        "print(finders)"
      ]
    },
    {
      "cell_type": "markdown",
      "metadata": {
        "id": "9wPQoF_xIiu6"
      },
      "source": [
        "##### re.search()"
      ]
    },
    {
      "cell_type": "code",
      "execution_count": 21,
      "metadata": {
        "colab": {
          "base_uri": "https://localhost:8080/"
        },
        "id": "O-_K-zlRIiu7",
        "outputId": "33b9b3d8-3171-4fba-9b7e-35f55bae3420"
      },
      "outputs": [
        {
          "output_type": "stream",
          "name": "stdout",
          "text": [
            "<re.Match object; span=(12, 16), match='abcd'>\n",
            "(12, 16) <class 'tuple'>\n",
            "abcd\n",
            "abcd\n"
          ]
        }
      ],
      "source": [
        "random_string = \"123 123 234 abcd abc\"\n",
        "search = pattern.search(random_string)\n",
        "print(search)\n",
        "\n",
        "span = search.span()\n",
        "print(span, type(span))\n",
        "#This is slicing random string to find abcd based on the the span[0]:[span[1]\n",
        "#goes from the 12th index to the 16th index\n",
        "print(random_string[span[0]: span[1]])\n",
        "print(random_string[12:16])"
      ]
    },
    {
      "cell_type": "markdown",
      "metadata": {
        "id": "WVc2m2CUIiu7"
      },
      "source": [
        "### Sets <br>\n",
        "<p>The following cells will allow you to use regular expressions to search for certain values within a range such as numbers 1 through 4.</p>"
      ]
    },
    {
      "cell_type": "markdown",
      "metadata": {
        "id": "OZENyc97Iiu7"
      },
      "source": [
        "##### [a-z] or [A-Z] - any lowercase/uppercase letters from a to z<br/>[^2] - anything that's not 2"
      ]
    },
    {
      "cell_type": "markdown",
      "metadata": {
        "id": "33dfYYa6Iiu8"
      },
      "source": [
        "##### Integer Ranges"
      ]
    },
    {
      "cell_type": "code",
      "execution_count": 34,
      "metadata": {
        "colab": {
          "base_uri": "https://localhost:8080/"
        },
        "id": "cHJGIKyOIiu9",
        "outputId": "d2b4782b-4d75-4341-a139-efced55619b9"
      },
      "outputs": [
        {
          "output_type": "stream",
          "name": "stdout",
          "text": [
            "<re.Match object; span=(2, 5), match='383'>\n",
            "(2, 5)\n",
            "383\n"
          ]
        }
      ],
      "source": [
        "pattern_int = re.compile('[0-7][7-9][0-3]')\n",
        "my_nums = \"67383\"\n",
        "pattern_int = re.compile('[0-3][7-9][0-3]')\n",
        "print(random_numbers)\n",
        "random_numbers = pattern_int.search('67383')\n",
        "span = random_numbers.span()\n",
        "print(span)\n",
        "print(my_nums[span[0]:span[1]])"
      ]
    },
    {
      "cell_type": "markdown",
      "metadata": {
        "id": "NEclouKPIiu9"
      },
      "source": [
        "##### Character Ranges"
      ]
    },
    {
      "cell_type": "code",
      "execution_count": 36,
      "metadata": {
        "colab": {
          "base_uri": "https://localhost:8080/"
        },
        "id": "AwtJq8wdIiu9",
        "outputId": "e12267ed-e5ee-431c-ca51-dfe2eaf98746"
      },
      "outputs": [
        {
          "output_type": "stream",
          "name": "stdout",
          "text": [
            "['He', 'Th', 'Mr', 'An']\n"
          ]
        }
      ],
      "source": [
        "char_pattern = re.compile('[A-Z][a-z]')\n",
        "\n",
        "found = char_pattern.findall('Hello There Mr.Anderson')\n",
        "print(found)"
      ]
    },
    {
      "cell_type": "markdown",
      "metadata": {
        "id": "01dDlRUfIiu-"
      },
      "source": [
        "### Counting Occurences"
      ]
    },
    {
      "cell_type": "markdown",
      "metadata": {
        "id": "_FYxIyipIiu_"
      },
      "source": [
        "##### {x} - something that occurs {num_of_times}"
      ]
    },
    {
      "cell_type": "code",
      "execution_count": null,
      "metadata": {
        "id": "HWOsT8FOIiu_"
      },
      "outputs": [],
      "source": []
    },
    {
      "cell_type": "markdown",
      "metadata": {
        "id": "Obk8buKUIiu_"
      },
      "source": [
        "##### {x, x} - something that occurs between x and x times"
      ]
    },
    {
      "cell_type": "code",
      "execution_count": null,
      "metadata": {
        "id": "pIgGXVoUIiu_"
      },
      "outputs": [],
      "source": []
    },
    {
      "cell_type": "markdown",
      "metadata": {
        "id": "bR0zb8EXIivA"
      },
      "source": [
        "##### ? - something that occurs 0 or 1 time"
      ]
    },
    {
      "cell_type": "code",
      "execution_count": null,
      "metadata": {
        "id": "E2mQJq_9IivB"
      },
      "outputs": [],
      "source": []
    },
    {
      "cell_type": "markdown",
      "metadata": {
        "id": "yJicEObRIivB"
      },
      "source": [
        "##### * - something that occurs at least 0 times"
      ]
    },
    {
      "cell_type": "code",
      "execution_count": null,
      "metadata": {
        "id": "RoyON74eIivB"
      },
      "outputs": [],
      "source": []
    },
    {
      "cell_type": "markdown",
      "metadata": {
        "id": "UlyirxlaIivC"
      },
      "source": [
        "##### + - something that occurs at least once"
      ]
    },
    {
      "cell_type": "code",
      "execution_count": null,
      "metadata": {
        "id": "n0rCHuWiIivD"
      },
      "outputs": [],
      "source": []
    },
    {
      "cell_type": "markdown",
      "metadata": {
        "id": "898UGgMzIivE"
      },
      "source": [
        "##### In-class exercise 1:\n",
        "\n",
        "Use a regular expression to find every number in the given string"
      ]
    },
    {
      "cell_type": "code",
      "execution_count": null,
      "metadata": {
        "id": "OgyQlLY9IivE"
      },
      "outputs": [],
      "source": [
        "\n"
      ]
    },
    {
      "cell_type": "markdown",
      "metadata": {
        "id": "ij1Af0HhIivE"
      },
      "source": [
        "### Escaping Characters"
      ]
    },
    {
      "cell_type": "markdown",
      "metadata": {
        "id": "tNT0aXrfIivF"
      },
      "source": [
        "##### \\w - look for any Unicode character<br/>\\W - look for anything that isnt a Unicode character\n",
        "\n",
        "[History on Unicode](http://unicode.org/standard/WhatIsUnicode.html)\n",
        "\n",
        "[More on Unicode Characters](https://en.wikipedia.org/wiki/List_of_Unicode_characters)"
      ]
    },
    {
      "cell_type": "code",
      "execution_count": null,
      "metadata": {
        "id": "JPVTHgsWIivF"
      },
      "outputs": [],
      "source": []
    },
    {
      "cell_type": "markdown",
      "metadata": {
        "id": "prVjZjnpIivG"
      },
      "source": [
        "##### \\d - look for any digit 0-9<br/>\\D - look for anything that isnt a digit"
      ]
    },
    {
      "cell_type": "code",
      "execution_count": null,
      "metadata": {
        "id": "B_8pAK07IivG"
      },
      "outputs": [],
      "source": []
    },
    {
      "cell_type": "markdown",
      "metadata": {
        "id": "c5W8y3sEIivG"
      },
      "source": [
        "##### \\s - look for any white space<br/>\\S - look for anything that isnt whitespace"
      ]
    },
    {
      "cell_type": "code",
      "execution_count": null,
      "metadata": {
        "id": "q12ywK55IivH"
      },
      "outputs": [],
      "source": []
    },
    {
      "cell_type": "markdown",
      "metadata": {
        "id": "SR3Z3H4JIivI"
      },
      "source": [
        "##### \\b - look for boundaries or edges of a word<br/>\\B - look for anything that isnt a boundary"
      ]
    },
    {
      "cell_type": "code",
      "execution_count": null,
      "metadata": {
        "id": "sp083MeMIivI"
      },
      "outputs": [],
      "source": []
    },
    {
      "cell_type": "markdown",
      "metadata": {
        "id": "TvdPxOTGIivJ"
      },
      "source": [
        "### Grouping"
      ]
    },
    {
      "cell_type": "code",
      "execution_count": null,
      "metadata": {
        "id": "Mt2G6knsIivK"
      },
      "outputs": [],
      "source": []
    },
    {
      "cell_type": "markdown",
      "metadata": {
        "id": "Xo3R_niXIivK"
      },
      "source": [
        "##### In-class Exercise 2:\n",
        "\n",
        "Write a function using regular expressions to find the domain name in the given email addresses (and return None for the invalid email addresses)<br><b>HINT: Use '|' for either or</b>"
      ]
    },
    {
      "cell_type": "code",
      "execution_count": null,
      "metadata": {
        "id": "7_3bCJE3IivL"
      },
      "outputs": [],
      "source": [
        "my_emails = [\"jordanw@codingtemple.orgcom\", \"pocohontas1776@gmail.com\", \"helloworld@aol..com\",\n",
        "             \"yourfavoriteband@g6.org\", \"@codingtemple.com\"]\n",
        "\n",
        "# You can also use the $ at the end of your compile expression -- this stops the search\n",
        "\n",
        "#.com OR .org => com|org\n",
        "\n",
        "#Expected output:\n",
        "#None\n",
        "#pocohontas1776@gmail.com\n",
        "#None\n",
        "#yourfavoriteband@g6.org\n",
        "#None\n",
        "\n",
        "\n"
      ]
    },
    {
      "cell_type": "markdown",
      "metadata": {
        "id": "Ir26RuhSIivL"
      },
      "source": [
        "### Opening a File <br>\n",
        "<p>Python gives us a couple ways to import files, below are the two used most often.</p>"
      ]
    },
    {
      "cell_type": "markdown",
      "metadata": {
        "id": "dWU-VZvTIivM"
      },
      "source": [
        "##### open()"
      ]
    },
    {
      "cell_type": "code",
      "execution_count": null,
      "metadata": {
        "id": "QIGhOMVfIivN"
      },
      "outputs": [],
      "source": []
    },
    {
      "cell_type": "markdown",
      "metadata": {
        "id": "H43_pOmFIivN"
      },
      "source": [
        "##### with open()"
      ]
    },
    {
      "cell_type": "code",
      "execution_count": null,
      "metadata": {
        "id": "VX2efs0UIivO"
      },
      "outputs": [],
      "source": []
    },
    {
      "cell_type": "markdown",
      "metadata": {
        "id": "7whdetg_IivP"
      },
      "source": [
        "##### re.match()"
      ]
    },
    {
      "cell_type": "code",
      "execution_count": null,
      "metadata": {
        "id": "GPCXFLqnIivP"
      },
      "outputs": [],
      "source": []
    },
    {
      "cell_type": "markdown",
      "metadata": {
        "id": "WKO31HXrIivP"
      },
      "source": [
        "##### re.search()"
      ]
    },
    {
      "cell_type": "code",
      "execution_count": null,
      "metadata": {
        "id": "XkptzsdkIivQ"
      },
      "outputs": [],
      "source": []
    },
    {
      "cell_type": "markdown",
      "metadata": {
        "id": "qCP4xwyHIivQ"
      },
      "source": [
        "##### Store the String to a Variable"
      ]
    },
    {
      "cell_type": "code",
      "execution_count": null,
      "metadata": {
        "id": "KRmog5V_IivR"
      },
      "outputs": [],
      "source": []
    },
    {
      "cell_type": "markdown",
      "metadata": {
        "id": "AM73IbqfIivR"
      },
      "source": [
        "### In-Class Exercise #3 <br>\n",
        "<p>Print each persons name and twitter handle, using groups, should look like:</p>\n",
        "<p>==============<br>\n",
        "   Full Name / Twitter<br>\n",
        "   ==============</p>\n",
        "Derek Hawkins / @derekhawkins\n",
        "\n",
        " Erik Sven-Osterberg / @sverik\n",
        "\n",
        " Ryan Butz / @ryanbutz\n",
        "\n",
        " Example Exampleson / @example\n",
        "\n",
        " Ripal Pael / @ripalp\n",
        "\n",
        " Darth Vader / @darthvader"
      ]
    },
    {
      "cell_type": "code",
      "execution_count": null,
      "metadata": {
        "scrolled": true,
        "id": "YvDWRwt9IivR"
      },
      "outputs": [],
      "source": []
    },
    {
      "cell_type": "markdown",
      "metadata": {
        "id": "rlibDRZzIivT"
      },
      "source": [
        "### Regex project\n",
        "\n",
        "Use python to read the file regex_test.txt and print the last name on each line using regular expressions and groups (return None for names with no first and last name, or names that aren't properly capitalized)\n",
        "##### Hint: use with open() and readlines()"
      ]
    },
    {
      "cell_type": "code",
      "execution_count": null,
      "metadata": {
        "id": "9OA3IWkdIivV"
      },
      "outputs": [],
      "source": [
        "\"\"\"\n",
        "Expected Output\n",
        "Abraham Lincoln\n",
        "Andrew P Garfield\n",
        "Connor Milliken\n",
        "Jordan Alexander Williams\n",
        "None\n",
        "None\n",
        "\"\"\""
      ]
    },
    {
      "cell_type": "code",
      "execution_count": null,
      "metadata": {
        "id": "hZm0Ll2MIivW"
      },
      "outputs": [],
      "source": []
    }
  ],
  "metadata": {
    "kernelspec": {
      "display_name": "Python 3",
      "language": "python",
      "name": "python3"
    },
    "language_info": {
      "codemirror_mode": {
        "name": "ipython",
        "version": 3
      },
      "file_extension": ".py",
      "mimetype": "text/x-python",
      "name": "python",
      "nbconvert_exporter": "python",
      "pygments_lexer": "ipython3",
      "version": "3.7.6"
    },
    "colab": {
      "provenance": []
    }
  },
  "nbformat": 4,
  "nbformat_minor": 0
}